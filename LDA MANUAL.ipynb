{
 "cells": [
  {
   "cell_type": "code",
   "execution_count": 3,
   "id": "c08b49cf-b81b-4886-a9ec-45b06ff01116",
   "metadata": {},
   "outputs": [],
   "source": [
    "import pandas as pd\n",
    "import numpy as np\n",
    "from sklearn.preprocessing import StandardScaler\n",
    "import matplotlib.pyplot as plt\n",
    "\n",
    "# Load dataset\n",
    "data = pd.read_csv('students.csv')\n",
    "\n",
    "# Pisahkan fitur dan label\n",
    "X = data.drop('Target', axis=1)  # 'target' adalah kolom label\n",
    "y = data['Target']\n",
    "\n",
    "# Standarisasi Data\n",
    "scaler = StandardScaler()\n",
    "X_scaled = scaler.fit_transform(X)\n"
   ]
  },
  {
   "cell_type": "code",
   "execution_count": 4,
   "id": "2641947f-ff86-4575-a98a-070e01841971",
   "metadata": {},
   "outputs": [
    {
     "name": "stdout",
     "output_type": "stream",
     "text": [
      "Mean Vectors per Class:\n",
      " [[ 0.12527846  0.29161444 -0.11764244 -0.00849615 -0.10535051  0.12816538\n",
      "   0.00476635  0.0604187   0.00480012 -0.0800391  -0.09131431 -0.15723919\n",
      "   0.00904394  0.33315702 -0.55126224  0.31414017 -0.39027404  0.33318468\n",
      "  -0.00770687 -0.05847548 -0.20082832 -0.0745422  -0.69183186 -0.64825111\n",
      "   0.09306483 -0.06533538 -0.22803752 -0.14866827 -0.81540883 -0.75475753\n",
      "   0.12803112 -0.00523425  0.03781064 -0.06266493]\n",
      " [-0.08058882 -0.18758901  0.07567673  0.00546538  0.06776961 -0.08244591\n",
      "  -0.00306609 -0.03886599 -0.00308781  0.05148735  0.05874044  0.10114843\n",
      "  -0.00581776 -0.21431242  0.3546146  -0.2020793   0.25105451 -0.21433021\n",
      "   0.00495766  0.03761596  0.12918834  0.04795132  0.44503987  0.41700535\n",
      "  -0.05986651  0.04202878  0.14669141  0.09563495  0.52453415  0.48551854\n",
      "  -0.08235954  0.00336707 -0.02432273  0.04031094]]\n"
     ]
    }
   ],
   "source": [
    "# Menentukan kelas yang ada\n",
    "classes = np.unique(y)\n",
    "\n",
    "# Menghitung mean untuk setiap kelas\n",
    "mean_vectors = []\n",
    "for class_value in classes:\n",
    "    class_data = X_scaled[y == class_value]\n",
    "    mean_vectors.append(np.mean(class_data, axis=0))\n",
    "\n",
    "# Menampilkan mean vector per kelas\n",
    "mean_vectors = np.array(mean_vectors)\n",
    "print(\"Mean Vectors per Class:\\n\", mean_vectors)\n"
   ]
  },
  {
   "cell_type": "code",
   "execution_count": 5,
   "id": "3bf0e9ef-eadb-4467-a3f7-abe1ac566e5f",
   "metadata": {},
   "outputs": [
    {
     "name": "stdout",
     "output_type": "stream",
     "text": [
      "\n",
      "Between-Class Scatter Matrix:\n",
      " [[ 3.66486352e+01  8.53081295e+01 -3.44148134e+01 ... -1.53121275e+00\n",
      "   1.10610263e+01 -1.83318362e+01]\n",
      " [ 8.53081295e+01  1.98574296e+02 -8.01083953e+01 ... -3.56424992e+00\n",
      "   2.57470834e+01 -4.26715660e+01]\n",
      " [-3.44148134e+01 -8.01083953e+01  3.23171483e+01 ...  1.43788167e+00\n",
      "  -1.03868304e+01  1.72144670e+01]\n",
      " ...\n",
      " [-1.53121275e+00 -3.56424992e+00  1.43788167e+00 ...  6.39754376e-02\n",
      "  -4.62139571e-01  7.65920508e-01]\n",
      " [ 1.10610263e+01  2.57470834e+01 -1.03868304e+01 ... -4.62139571e-01\n",
      "   3.33835907e+00 -5.53278239e+00]\n",
      " [-1.83318362e+01 -4.26715660e+01  1.72144670e+01 ...  7.65920508e-01\n",
      "  -5.53278239e+00  9.16967896e+00]]\n"
     ]
    }
   ],
   "source": [
    "# Mean global dari seluruh data\n",
    "mean_global = np.mean(X_scaled, axis=0)\n",
    "\n",
    "# Matriks scatter antar kelas\n",
    "S_B = np.zeros((X_scaled.shape[1], X_scaled.shape[1]))  # Matriks n x n\n",
    "for class_value, mean_vector in zip(classes, mean_vectors):\n",
    "    # Membuat data kelas\n",
    "    class_data = X_scaled[y == class_value]\n",
    "    \n",
    "    # Menghitung scatter antar kelas\n",
    "    n_class = class_data.shape[0]\n",
    "    mean_diff = (mean_vector - mean_global).reshape(-1, 1)\n",
    "    S_B += n_class * (mean_diff).dot(mean_diff.T)\n",
    "\n",
    "# Menampilkan matriks scatter antar kelas\n",
    "print(\"\\nBetween-Class Scatter Matrix:\\n\", S_B)\n"
   ]
  },
  {
   "cell_type": "code",
   "execution_count": 6,
   "id": "d0c4864e-26b8-4c8d-8574-9aca9ee444ae",
   "metadata": {},
   "outputs": [
    {
     "name": "stdout",
     "output_type": "stream",
     "text": [
      "\n",
      "Within-Class Scatter Matrix:\n",
      " [[ 3593.3513648    769.7539584   -438.82996508 ...   -67.28857093\n",
      "     32.25206732   -84.72708875]\n",
      " [  769.7539584   3431.42570356  -814.20987527 ...   278.64289248\n",
      "   -126.18016149   -11.77297365]\n",
      " [ -438.82996508  -814.20987527  3597.68285167 ...  -363.59321091\n",
      "     -4.95965521   102.68980285]\n",
      " ...\n",
      " [  -67.28857093   278.64289248  -363.59321091 ...  3629.93602456\n",
      "   -107.22655557 -1241.29045706]\n",
      " [   32.25206732  -126.18016149    -4.95965521 ...  -107.22655557\n",
      "   3626.66164093  -451.07998032]\n",
      " [  -84.72708875   -11.77297365   102.68980285 ... -1241.29045706\n",
      "   -451.07998032  3620.83032104]]\n"
     ]
    }
   ],
   "source": [
    "# Matriks scatter dalam kelas\n",
    "S_W = np.zeros((X_scaled.shape[1], X_scaled.shape[1]))  # Matriks n x n\n",
    "for class_value in classes:\n",
    "    # Mengambil data kelas\n",
    "    class_data = X_scaled[y == class_value]\n",
    "    \n",
    "    # Menghitung scatter dalam kelas\n",
    "    mean_vector = np.mean(class_data, axis=0)\n",
    "    class_scatter = np.dot((class_data - mean_vector).T, (class_data - mean_vector))\n",
    "    S_W += class_scatter\n",
    "\n",
    "# Menampilkan matriks scatter dalam kelas\n",
    "print(\"\\nWithin-Class Scatter Matrix:\\n\", S_W)\n"
   ]
  },
  {
   "cell_type": "code",
   "execution_count": 7,
   "id": "f730a359-cc01-4837-bf67-0d30c198ff86",
   "metadata": {},
   "outputs": [
    {
     "name": "stdout",
     "output_type": "stream",
     "text": [
      "\n",
      "Eigenvalues:\n",
      " [-2.22044605e-16+0.00000000e+00j  1.96583993e+00+0.00000000e+00j\n",
      " -4.95381623e-16+1.22300058e-16j -4.95381623e-16-1.22300058e-16j\n",
      " -3.00857829e-16+0.00000000e+00j  1.97098069e-16+1.88706009e-16j\n",
      "  1.97098069e-16-1.88706009e-16j  1.18061486e-17+1.11577563e-16j\n",
      "  1.18061486e-17-1.11577563e-16j  8.81667725e-17+5.21885312e-18j\n",
      "  8.81667725e-17-5.21885312e-18j -6.43323890e-17+3.78226633e-17j\n",
      " -6.43323890e-17-3.78226633e-17j -4.03437733e-17+0.00000000e+00j\n",
      "  1.54057295e-17+2.73776322e-17j  1.54057295e-17-2.73776322e-17j\n",
      " -1.41773673e-17+1.95147856e-17j -1.41773673e-17-1.95147856e-17j\n",
      " -1.32994450e-17+0.00000000e+00j -5.15536356e-18+7.21082296e-18j\n",
      " -5.15536356e-18-7.21082296e-18j  8.08448269e-18+1.03800303e-18j\n",
      "  8.08448269e-18-1.03800303e-18j -2.63018818e-18+3.47588788e-18j\n",
      " -2.63018818e-18-3.47588788e-18j  1.45016783e-18+4.06075461e-18j\n",
      "  1.45016783e-18-4.06075461e-18j  3.79559823e-18+0.00000000e+00j\n",
      "  1.72508581e-18+0.00000000e+00j -7.83882073e-19+1.17919309e-18j\n",
      " -7.83882073e-19-1.17919309e-18j -8.07834583e-20+2.53404055e-19j\n",
      " -8.07834583e-20-2.53404055e-19j -3.60150891e-19+0.00000000e+00j]\n",
      "\n",
      "Eigenvectors:\n",
      " [[-9.89051718e-01+0.j          8.64911685e-03+0.j\n",
      "  -6.56582527e-02-0.01510483j ...  8.88654403e-03-0.00919891j\n",
      "   8.88654403e-03+0.00919891j  1.07726618e-02+0.j        ]\n",
      " [ 4.42410526e-03+0.j         -2.99787264e-02+0.j\n",
      "  -8.15541589e-02-0.02875337j ... -8.19986235e-04+0.004335j\n",
      "  -8.19986235e-04-0.004335j   -1.12919949e-02+0.j        ]\n",
      " [ 1.20993805e-03+0.j         -8.19881073e-03+0.j\n",
      "  -1.71331101e-02-0.00393706j ... -1.67922461e-02-0.00976338j\n",
      "  -1.67922461e-02+0.00976338j  3.15263301e-02+0.j        ]\n",
      " ...\n",
      " [ 1.72276149e-03+0.j         -1.16738171e-02+0.j\n",
      "  -2.62816394e-02-0.00336479j ...  2.18676686e-01-0.23258603j\n",
      "   2.18676686e-01+0.23258603j  5.77507912e-01+0.j        ]\n",
      " [-1.82228465e-03+0.j          1.23482082e-02+0.j\n",
      "   1.37047466e-02+0.00224766j ...  7.86398575e-02-0.05857043j\n",
      "   7.86398575e-02+0.05857043j -8.94856277e-03+0.j        ]\n",
      " [-1.85522909e-03+0.j          1.25714471e-02+0.j\n",
      "   1.88185767e-02+0.00341152j ...  9.47526696e-02-0.03359946j\n",
      "   9.47526696e-02+0.03359946j -7.17564257e-02+0.j        ]]\n"
     ]
    }
   ],
   "source": [
    "# Matriks invers dari S_W\n",
    "S_W_inv = np.linalg.inv(S_W)\n",
    "\n",
    "# Matriks scatter untuk eigen analisis\n",
    "S_W_inv_S_B = np.dot(S_W_inv, S_B)\n",
    "\n",
    "# Menghitung eigenvalue dan eigenvector\n",
    "eigenvalues, eigenvectors = np.linalg.eig(S_W_inv_S_B)\n",
    "\n",
    "# Menampilkan eigenvalue dan eigenvector\n",
    "print(\"\\nEigenvalues:\\n\", eigenvalues)\n",
    "print(\"\\nEigenvectors:\\n\", eigenvectors)\n"
   ]
  },
  {
   "cell_type": "code",
   "execution_count": 8,
   "id": "df423a5f-fcef-442c-93a9-18a2c87f1a5b",
   "metadata": {},
   "outputs": [
    {
     "name": "stdout",
     "output_type": "stream",
     "text": [
      "\n",
      "Eigenvectors (LDA Components):\n",
      " [[ 8.64911685e-03+0.j]\n",
      " [-2.99787264e-02+0.j]\n",
      " [-8.19881073e-03+0.j]\n",
      " [-6.66309176e-02+0.j]\n",
      " [-1.39505682e-02+0.j]\n",
      " [ 3.46309878e-02+0.j]\n",
      " [-5.40300639e-02+0.j]\n",
      " [-1.84031878e-02+0.j]\n",
      " [ 1.55334139e-02+0.j]\n",
      " [ 3.83233738e-02+0.j]\n",
      " [ 4.76976026e-04+0.j]\n",
      " [-2.50854873e-02+0.j]\n",
      " [-1.01336999e-02+0.j]\n",
      " [-6.88309145e-02+0.j]\n",
      " [ 1.27993499e-01+0.j]\n",
      " [-3.49631912e-02+0.j]\n",
      " [ 5.92094650e-02+0.j]\n",
      " [-2.39949987e-02+0.j]\n",
      " [ 7.12723976e-02+0.j]\n",
      " [-1.59272237e-01+0.j]\n",
      " [ 3.47281814e-02+0.j]\n",
      " [-3.73480959e-02+0.j]\n",
      " [ 3.23629767e-01+0.j]\n",
      " [-4.29190936e-02+0.j]\n",
      " [ 1.66184149e-02+0.j]\n",
      " [-1.43821508e-01+0.j]\n",
      " [-3.59427352e-01+0.j]\n",
      " [-6.78116258e-02+0.j]\n",
      " [ 8.13527581e-01+0.j]\n",
      " [-6.26648769e-02+0.j]\n",
      " [ 2.06622408e-02+0.j]\n",
      " [-1.16738171e-02+0.j]\n",
      " [ 1.23482082e-02+0.j]\n",
      " [ 1.25714471e-02+0.j]]\n"
     ]
    }
   ],
   "source": [
    "# Urutkan eigenvalue dan eigenvector berdasarkan nilai eigenvalue terbesar\n",
    "sorted_indices = np.argsort(eigenvalues)[::-1]  # Mengurutkan secara menurun\n",
    "eigenvalues_sorted = eigenvalues[sorted_indices]\n",
    "eigenvectors_sorted = eigenvectors[:, sorted_indices]\n",
    "\n",
    "# Pilih eigenvector dengan eigenvalue terbesar\n",
    "lda_components = eigenvectors_sorted[:, :1]  # Misalnya memilih 1 komponen\n",
    "\n",
    "print(\"\\nEigenvectors (LDA Components):\\n\", lda_components)\n"
   ]
  },
  {
   "cell_type": "code",
   "execution_count": 9,
   "id": "9cb79e92-4457-456c-9764-ec2b48f2f492",
   "metadata": {},
   "outputs": [
    {
     "name": "stdout",
     "output_type": "stream",
     "text": [
      "\n",
      "Proyeksi Data ke Ruang LDA:\n",
      " [[-0.19419512+0.j]\n",
      " [ 0.13160377+0.j]\n",
      " [-1.39814412+0.j]\n",
      " ...\n",
      " [-0.81717761+0.j]\n",
      " [ 0.61458993+0.j]\n",
      " [ 0.77792871+0.j]]\n"
     ]
    }
   ],
   "source": [
    "# Proyeksikan data ke ruang LDA (dimensi lebih rendah)\n",
    "X_lda = X_scaled.dot(lda_components)\n",
    "\n",
    "# Menampilkan hasil proyeksi\n",
    "print(\"\\nProyeksi Data ke Ruang LDA:\\n\", X_lda)\n"
   ]
  },
  {
   "cell_type": "code",
   "execution_count": 14,
   "id": "cc3b49f2-ff4d-4eba-b69a-c333fb92d3d0",
   "metadata": {},
   "outputs": [
    {
     "data": {
      "image/png": "[encoded data removed]",
      "text/plain": [
       "<Figure size 800x600 with 2 Axes>"
      ]
     },
     "metadata": {},
     "output_type": "display_data"
    }
   ],
   "source": [
    "# Memastikan X_lda hanya berisi bagian real\n",
    "X_lda_real = np.real(X_lda)\n",
    "\n",
    "# Visualisasi data proyeksi LDA\n",
    "plt.figure(figsize=(8, 6))\n",
    "plt.scatter(X_lda_real, np.zeros_like(X_lda_real), c=y_encoded, cmap='viridis', marker='o')\n",
    "plt.title('Proyeksi Data ke Ruang LDA')\n",
    "plt.xlabel('LDA Component 1')\n",
    "plt.colorbar(label='Class')\n",
    "plt.show()\n"
   ]
  },
  {
   "cell_type": "code",
   "execution_count": 15,
   "id": "7ea22f55-8164-40fb-9535-85b4eaae3833",
   "metadata": {},
   "outputs": [
    {
     "data": {
      "image/png": "[encoded data removed]",
      "text/plain": [
       "<Figure size 800x600 with 1 Axes>"
      ]
     },
     "metadata": {},
     "output_type": "display_data"
    }
   ],
   "source": [
    "plt.figure(figsize=(8, 6))\n",
    "for label in np.unique(y_encoded):\n",
    "    plt.hist(X_lda_real[y_encoded == label], bins=30, alpha=0.6, label=f'Class {label}')\n",
    "plt.title('Distribusi Data dalam Ruang LDA')\n",
    "plt.xlabel('LDA Component 1')\n",
    "plt.ylabel('Jumlah')\n",
    "plt.legend()\n",
    "plt.show()\n"
   ]
  },
  {
   "cell_type": "code",
   "execution_count": null,
   "id": "05ff5265-1539-40b5-843a-2016f3fb9319",
   "metadata": {},
   "outputs": [],
   "source": []
  }
 ],
 "metadata": {
  "kernelspec": {
   "display_name": "Python 3 (ipykernel)",
   "language": "python",
   "name": "python3"
  },
  "language_info": {
   "codemirror_mode": {
    "name": "ipython",
    "version": 3
   },
   "file_extension": ".py",
   "mimetype": "text/x-python",
   "name": "python",
   "nbconvert_exporter": "python",
   "pygments_lexer": "ipython3",
   "version": "3.11.7"
  }
 },
 "nbformat": 4,
 "nbformat_minor": 5
}
